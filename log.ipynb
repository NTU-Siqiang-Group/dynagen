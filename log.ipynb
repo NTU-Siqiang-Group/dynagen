{
 "cells": [
  {
   "cell_type": "code",
   "execution_count": 1,
   "metadata": {},
   "outputs": [],
   "source": [
    "import json\n",
    "import pandas as pd\n",
    "\n",
    "def read_data(filename):\n",
    "  with open(filename, 'r') as f:\n",
    "    data = json.load(f)\n",
    "    external_id_map = {}\n",
    "    for item in data['traceEvents']:\n",
    "      if 'args' in item:\n",
    "        if 'External id' in item['args']:\n",
    "          if item['args']['External id'] not in external_id_map:\n",
    "            external_id_map[item['args']['External id']] = {}\n",
    "          ref = external_id_map[item['args']['External id']]\n",
    "          if item['name'] not in ref:\n",
    "            ref[item['name']] = {'type': item['cat'], 'dur': item['dur']}\n",
    "    return external_id_map\n",
    "\n",
    "def calculation(external_id_map, filename):\n",
    "  headers = ['ext_id', 'cpu_op', 'kernel', 'cuda_runtime', 'gpu_memcpy', 'gpu_memset', 'cpu_op_dur', 'kernel_dur', 'cuda_runtime_dur', 'gpu_memcpy_dur', 'gpu_memset_dur']\n",
    "  header_idx = {\n",
    "    'cpu_op': 1,\n",
    "    'kernel': 2,\n",
    "    'cuda_runtime': 3,\n",
    "    'gpu_memcpy': 4,\n",
    "    'gpu_memset': 5\n",
    "  }\n",
    "  rows = []\n",
    "  for ext_id in external_id_map:\n",
    "    row = [ext_id] + [0] * (len(headers) - 1)\n",
    "    for name in external_id_map[ext_id].keys():\n",
    "      ref = external_id_map[ext_id][name]\n",
    "      row[header_idx[ref['type']]] = name\n",
    "      row[header_idx[ref['type']] + len(header_idx)] = ref['dur']\n",
    "    rows.append(row)\n",
    "\n",
    "  df = pd.DataFrame(rows, columns=headers)\n",
    "  # 1. output the I/O time\n",
    "  df.pipe(lambda x: x[x['cpu_op'] == 'aten::copy_']).to_csv(f'{filename}.io_time.csv', index=False)\n",
    "  # 2. output the calculation time, take mul as an example\n",
    "  df.pipe(lambda x: x[x['cpu_op'] == 'aten::mul']).to_csv(f'{filename}.mul_time.csv', index=False)"
   ]
  },
  {
   "cell_type": "code",
   "execution_count": 2,
   "metadata": {},
   "outputs": [
    {
     "name": "stdout",
     "output_type": "stream",
     "text": [
      "finish reading data\n"
     ]
    }
   ],
   "source": [
    "filename = \"/fs/resource/ywp/policy_logs/alter.join\"\n",
    "data = read_data(filename)\n",
    "print('finish reading data')\n",
    "\n",
    "calculation(data, filename)"
   ]
  },
  {
   "cell_type": "code",
   "execution_count": 3,
   "metadata": {},
   "outputs": [
    {
     "name": "stdout",
     "output_type": "stream",
     "text": [
      "finish reading data\n"
     ]
    }
   ],
   "source": [
    "filename = \"/fs/resource/ywp/policy_logs/default.join\"\n",
    "data = read_data(filename)\n",
    "print(\"finish reading data\")\n",
    "\n",
    "calculation(data, filename)"
   ]
  },
  {
   "cell_type": "code",
   "execution_count": null,
   "metadata": {},
   "outputs": [],
   "source": [
    "filename = '8B_cpu.log'\n",
    "data = read_data('8B_cpu.log')\n",
    "print('finish reading data')\n",
    "calculation(data, filename)"
   ]
  },
  {
   "cell_type": "code",
   "execution_count": null,
   "metadata": {},
   "outputs": [],
   "source": [
    "filename = 'opt_8B.log'\n",
    "data = read_data(filename)\n",
    "print('finish reading data')\n",
    "calculation(data, filename)"
   ]
  },
  {
   "cell_type": "code",
   "execution_count": null,
   "metadata": {},
   "outputs": [],
   "source": [
    "filename = 'opt_8B_cpu.log'\n",
    "data = read_data(filename)\n",
    "print('finish reading data')\n",
    "calculation(data, filename)"
   ]
  },
  {
   "cell_type": "code",
   "execution_count": null,
   "metadata": {},
   "outputs": [],
   "source": []
  }
 ],
 "metadata": {
  "kernelspec": {
   "display_name": "infinigen",
   "language": "python",
   "name": "python3"
  },
  "language_info": {
   "codemirror_mode": {
    "name": "ipython",
    "version": 3
   },
   "file_extension": ".py",
   "mimetype": "text/x-python",
   "name": "python",
   "nbconvert_exporter": "python",
   "pygments_lexer": "ipython3",
   "version": "3.9.19"
  }
 },
 "nbformat": 4,
 "nbformat_minor": 2
}

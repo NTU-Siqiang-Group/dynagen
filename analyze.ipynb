{
 "cells": [
  {
   "cell_type": "code",
   "execution_count": 1,
   "metadata": {},
   "outputs": [],
   "source": [
    "import pandas as pd"
   ]
  },
  {
   "cell_type": "code",
   "execution_count": 6,
   "metadata": {},
   "outputs": [
    {
     "name": "stdout",
     "output_type": "stream",
     "text": [
      "7327 4928 0\n",
      "1090107.525 578762.1869999999 0.0 13056852.713999998\n"
     ]
    }
   ],
   "source": [
    "df = pd.read_csv(\"/fs/resource/ywp/policy_logs/default.join.io_time.csv\")\n",
    "direction = df.pipe(lambda x: x[x['gpu_memcpy'].str.contains('to')])\n",
    "HtoD = direction.pipe(lambda x: x[x['gpu_memcpy'].str.contains('HtoD')])\n",
    "DtoH = direction.pipe(lambda x: x[x['gpu_memcpy'].str.contains('DtoH')])\n",
    "DtoD = direction.pipe(lambda x: x[x['gpu_memcpy'].str.contains('DtoD')])\n",
    "print(len(HtoD), len(DtoH), len(DtoD))\n",
    "HtoD_dur = HtoD.sum()['cpu_op_dur']\n",
    "DtoH_dur = DtoH.sum()['cpu_op_dur']\n",
    "DtoD_dur = DtoD.sum()['cpu_op_dur']\n",
    "total_io = df['cpu_op_dur'].sum()\n",
    "print(HtoD_dur, DtoH_dur, DtoD_dur, total_io)\n",
    "a = df.pipe(lambda x: x[x['gpu_memcpy'].str.contains('0')])\n",
    "# HtoD"
   ]
  },
  {
   "cell_type": "code",
   "execution_count": 5,
   "metadata": {},
   "outputs": [
    {
     "name": "stdout",
     "output_type": "stream",
     "text": [
      "7760 3441 992\n",
      "618963.888 450882.46499999997 24944.979 13426482.133000001\n"
     ]
    }
   ],
   "source": [
    "df = pd.read_csv(\"/fs/resource/ywp/policy_logs/alter.join.io_time.csv\")\n",
    "direction = df.pipe(lambda x: x[x[\"gpu_memcpy\"].str.contains(\"to\")])\n",
    "HtoD = direction.pipe(lambda x: x[x[\"gpu_memcpy\"].str.contains(\"HtoD\")])\n",
    "DtoH = direction.pipe(lambda x: x[x[\"gpu_memcpy\"].str.contains(\"DtoH\")])\n",
    "DtoD = direction.pipe(lambda x: x[x[\"gpu_memcpy\"].str.contains(\"DtoD\")])\n",
    "print(len(HtoD), len(DtoH), len(DtoD))\n",
    "HtoD_dur = HtoD.sum()[\"cpu_op_dur\"] \n",
    "DtoH_dur = DtoH.sum()[\"cpu_op_dur\"] \n",
    "DtoD_dur = DtoD.sum()[\"cpu_op_dur\"] \n",
    "total_io = df[\"cpu_op_dur\"].sum()\n",
    "print(HtoD_dur, DtoH_dur, DtoD_dur, total_io)\n",
    "a = df.pipe(lambda x: x[x[\"gpu_memcpy\"].str.contains(\"0\")])\n",
    "# HtoD"
   ]
  },
  {
   "cell_type": "code",
   "execution_count": null,
   "metadata": {},
   "outputs": [],
   "source": [
    "no_kernel = a.pipe(lambda x: x[x['kernel'].str.contains('0')])\n",
    "with_kernel = a.pipe(lambda x: x[x['kernel'].str.contains('::')])\n",
    "\n",
    "print(len(no_kernel), len(with_kernel))\n",
    "# avg time\n",
    "print(no_kernel['cpu_op_dur'].mean(), with_kernel['cpu_op_dur'].mean())"
   ]
  },
  {
   "cell_type": "code",
   "execution_count": null,
   "metadata": {},
   "outputs": [],
   "source": [
    "# DtoH: Device to Host, indicating data transfer from the GPU back to the CPU.\n",
    "# DtoD: Device to Device, for memory copies within the GPU memory itself.\n",
    "# HtoH: Host to Host, for data transfers within CPU memory.\n",
    "df = pd.read_csv('8B.log.io_time.csv')\n",
    "direction = df.pipe(lambda x: x[x['gpu_memcpy'].str.contains('to')])\n",
    "HtoD = direction.pipe(lambda x: x[x['gpu_memcpy'].str.contains('HtoD')])\n",
    "DtoH = direction.pipe(lambda x: x[x['gpu_memcpy'].str.contains('DtoH')])\n",
    "DtoD = direction.pipe(lambda x: x[x['gpu_memcpy'].str.contains('DtoD')])\n",
    "print(len(HtoD), len(DtoH), len(DtoD))\n",
    "# HtoD_dur = HtoD.sum()['cpu_op_dur']\n",
    "# DtoH_dur = DtoH.sum()['cpu_op_dur']\n",
    "# DtoD_dur = DtoD.sum()['cpu_op_dur']\n",
    "# total_io = df['cpu_op_dur'].sum()\n",
    "# print(HtoD_dur, DtoH_dur, DtoD_dur, total_io)\n",
    "# print(HtoD_dur / len(HtoD), DtoH_dur / len(DtoH), DtoD_dur / len(DtoD), total_io / len(df))\n",
    "async_cuda = HtoD.pipe(lambda x: x[x['cuda_runtime'] == 'cudaMemcpyAsync'])\n",
    "sync_cuda = HtoD.pipe(lambda x: x[x['cuda_runtime'] == 'cudaStreamSynchronize'])\n",
    "print(len(async_cuda), len(sync_cuda))\n",
    "print(async_cuda['cpu_op_dur'].mean(), sync_cuda['cpu_op_dur'].mean())\n",
    "\n",
    "async_cuda = DtoH.pipe(lambda x: x[x['cuda_runtime'] == 'cudaMemcpyAsync'])\n",
    "sync_cuda = DtoH.pipe(lambda x: x[x['cuda_runtime'] == 'cudaStreamSynchronize'])\n",
    "print(len(async_cuda), len(sync_cuda))\n",
    "print(async_cuda['cpu_op_dur'].mean(), sync_cuda['cpu_op_dur'].mean())\n"
   ]
  },
  {
   "cell_type": "code",
   "execution_count": null,
   "metadata": {},
   "outputs": [],
   "source": [
    "# CPU delegation\n",
    "df = pd.read_csv('8B_cpu.log.io_time.csv')\n",
    "direction = df.pipe(lambda x: x[x['gpu_memcpy'].str.contains('to')])\n",
    "HtoD = direction.pipe(lambda x: x[x['gpu_memcpy'].str.contains('HtoD')])\n",
    "DtoH = direction.pipe(lambda x: x[x['gpu_memcpy'].str.contains('DtoH')])\n",
    "DtoD = direction.pipe(lambda x: x[x['gpu_memcpy'].str.contains('DtoD')])\n",
    "print(len(HtoD), len(DtoH), len(DtoD))\n",
    "# HtoD_dur = HtoD.sum()['cpu_op_dur']\n",
    "# DtoH_dur = DtoH.sum()['cpu_op_dur']\n",
    "# DtoD_dur = DtoD.sum()['cpu_op_dur']\n",
    "# total_io = df['cpu_op_dur'].sum()\n",
    "# print(HtoD_dur, DtoH_dur, DtoD_dur, total_io)\n",
    "# print(HtoD_dur / len(HtoD), DtoH_dur / len(DtoH), DtoD_dur / len(DtoD), total_io / len(df))\n",
    "async_cuda = HtoD.pipe(lambda x: x[x['cuda_runtime'] == 'cudaMemcpyAsync'])\n",
    "sync_cuda = HtoD.pipe(lambda x: x[x['cuda_runtime'] == 'cudaStreamSynchronize'])\n",
    "print(len(async_cuda), len(sync_cuda))\n",
    "print(async_cuda['cpu_op_dur'].mean(), sync_cuda['cpu_op_dur'].mean())\n",
    "\n",
    "async_cuda = DtoH.pipe(lambda x: x[x['cuda_runtime'] == 'cudaMemcpyAsync'])\n",
    "sync_cuda = DtoH.pipe(lambda x: x[x['cuda_runtime'] == 'cudaStreamSynchronize'])\n",
    "print(len(async_cuda), len(sync_cuda))\n",
    "print(async_cuda['cpu_op_dur'].mean(), sync_cuda['cpu_op_dur'].mean())"
   ]
  },
  {
   "cell_type": "code",
   "execution_count": null,
   "metadata": {},
   "outputs": [],
   "source": [
    "df = pd.read_csv('8B.log.mul_time.csv')\n",
    "cpu_op_durs = df['cpu_op_dur']\n",
    "print(cpu_op_durs.mean(), cpu_op_durs.sum(), cpu_op_durs.size)"
   ]
  },
  {
   "cell_type": "code",
   "execution_count": null,
   "metadata": {},
   "outputs": [],
   "source": [
    "df = pd.read_csv('8B_cpu.log.mul_time.csv')\n",
    "cpu_op_durs = df['cpu_op_dur']\n",
    "print(cpu_op_durs.mean(), cpu_op_durs.sum(), cpu_op_durs.size)"
   ]
  },
  {
   "cell_type": "code",
   "execution_count": null,
   "metadata": {},
   "outputs": [],
   "source": [
    "# GPU only\n",
    "df = pd.read_csv('opt_8B.log.io_time.csv')\n",
    "direction = df.pipe(lambda x: x[x['gpu_memcpy'].str.contains('to')])\n",
    "HtoD = direction.pipe(lambda x: x[x['gpu_memcpy'].str.contains('HtoD')])\n",
    "DtoH = direction.pipe(lambda x: x[x['gpu_memcpy'].str.contains('DtoH')])\n",
    "DtoD = direction.pipe(lambda x: x[x['gpu_memcpy'].str.contains('DtoD')])\n",
    "print(len(HtoD), len(DtoH), len(DtoD))\n",
    "# HtoD_dur = HtoD.sum()['cpu_op_dur']\n",
    "# DtoH_dur = DtoH.sum()['cpu_op_dur']\n",
    "# DtoD_dur = DtoD.sum()['cpu_op_dur']\n",
    "# total_io = df['cpu_op_dur'].sum()\n",
    "# print(HtoD_dur, DtoH_dur, DtoD_dur, total_io)\n",
    "# print(HtoD_dur / len(HtoD), DtoH_dur / len(DtoH), DtoD_dur / len(DtoD), total_io / len(df))\n",
    "async_cuda = HtoD.pipe(lambda x: x[x['cuda_runtime'] == 'cudaMemcpyAsync'])\n",
    "sync_cuda = HtoD.pipe(lambda x: x[x['cuda_runtime'] == 'cudaStreamSynchronize'])\n",
    "print(len(async_cuda), len(sync_cuda))\n",
    "print(async_cuda['cpu_op_dur'].mean(), sync_cuda['cpu_op_dur'].mean())"
   ]
  },
  {
   "cell_type": "code",
   "execution_count": null,
   "metadata": {},
   "outputs": [],
   "source": [
    "# CPU delegation\n",
    "df = pd.read_csv('opt_8B_cpu.log.io_time.csv')\n",
    "direction = df.pipe(lambda x: x[x['gpu_memcpy'].str.contains('to')])\n",
    "HtoD = direction.pipe(lambda x: x[x['gpu_memcpy'].str.contains('HtoD')])\n",
    "DtoH = direction.pipe(lambda x: x[x['gpu_memcpy'].str.contains('DtoH')])\n",
    "DtoD = direction.pipe(lambda x: x[x['gpu_memcpy'].str.contains('DtoD')])\n",
    "print(len(HtoD), len(DtoH), len(DtoD))\n",
    "# HtoD_dur = HtoD.sum()['cpu_op_dur']\n",
    "# DtoH_dur = DtoH.sum()['cpu_op_dur']\n",
    "# DtoD_dur = DtoD.sum()['cpu_op_dur']\n",
    "# total_io = df['cpu_op_dur'].sum()\n",
    "# print(HtoD_dur, DtoH_dur, DtoD_dur, total_io)\n",
    "# print(HtoD_dur / len(HtoD), DtoH_dur / len(DtoH), DtoD_dur / len(DtoD), total_io / len(df))\n",
    "async_cuda = HtoD.pipe(lambda x: x[x['cuda_runtime'] == 'cudaMemcpyAsync'])\n",
    "sync_cuda = HtoD.pipe(lambda x: x[x['cuda_runtime'] == 'cudaStreamSynchronize'])\n",
    "print(len(async_cuda), len(sync_cuda))\n",
    "print(async_cuda['cpu_op_dur'].mean(), sync_cuda['cpu_op_dur'].mean())"
   ]
  },
  {
   "cell_type": "code",
   "execution_count": null,
   "metadata": {},
   "outputs": [],
   "source": []
  }
 ],
 "metadata": {
  "kernelspec": {
   "display_name": "infinigen",
   "language": "python",
   "name": "python3"
  },
  "language_info": {
   "codemirror_mode": {
    "name": "ipython",
    "version": 3
   },
   "file_extension": ".py",
   "mimetype": "text/x-python",
   "name": "python",
   "nbconvert_exporter": "python",
   "pygments_lexer": "ipython3",
   "version": "3.9.19"
  }
 },
 "nbformat": 4,
 "nbformat_minor": 2
}
